{
 "cells": [
  {
   "cell_type": "markdown",
   "id": "acdd2d4c",
   "metadata": {},
   "source": [
    "# liberaries\n"
   ]
  },
  {
   "cell_type": "code",
   "execution_count": 1,
   "id": "8974acc3",
   "metadata": {},
   "outputs": [],
   "source": [
    "import os\n",
    "import numpy as np\n",
    "import face_recognition\n",
    "import cv2\n"
   ]
  },
  {
   "cell_type": "markdown",
   "id": "ac345813",
   "metadata": {},
   "source": [
    "# read all training data"
   ]
  },
  {
   "cell_type": "code",
   "execution_count": 2,
   "id": "33e08a69",
   "metadata": {},
   "outputs": [],
   "source": [
    "path='F:\\\\graduation project\\\\augmented data'\n",
    "myList = os.listdir(path)\n",
    "known_imgs=[]\n",
    "names=[]\n",
    "for item in myList:\n",
    "    img=cv2.imread('{PATH}\\\\{ITEM}'.format(PATH=path,ITEM=item))\n",
    "    known_imgs.append(img)\n",
    "    names.append(os.path.splitext(item)[0])\n",
    "#print(names)"
   ]
  },
  {
   "cell_type": "markdown",
   "id": "afcb9541",
   "metadata": {},
   "source": [
    "# Face_recognition\n",
    "Python library face_recognition. It works in a few steps:\n",
    "\n",
    "1. Identify a face in a given image\n",
    "2. Identify specific features in the face\n",
    "3. Generate a face encoding vector of 128 values\n",
    "\n",
    "Based on this encoding, we can measure the similarity between two face images — that can tell us if they belong to the same person.\n",
    "\n",
    "Let us check out an example."
   ]
  },
  {
   "cell_type": "markdown",
   "id": "96feef5d",
   "metadata": {},
   "source": [
    "# encoding faces in training data"
   ]
  },
  {
   "cell_type": "code",
   "execution_count": 3,
   "id": "45aa408f",
   "metadata": {},
   "outputs": [
    {
     "name": "stdout",
     "output_type": "stream",
     "text": [
      "start\n"
     ]
    }
   ],
   "source": [
    "encoded_known_imgs=[]\n",
    "counter=0\n",
    "for img in known_imgs:\n",
    "    try:\n",
    "        counter+=1\n",
    "        #img= cv2.resize(img,(480, 480))\n",
    "        img=cv2.cvtColor(img,cv2.COLOR_BGR2RGB)\n",
    "        encoded_img=face_recognition.face_encodings(img)[0]\n",
    "        encoded_known_imgs.append(encoded_img)\n",
    "        \n",
    "    except:\n",
    "        print(counter,names[counter-1])\n",
    "print(\"start\")"
   ]
  },
  {
   "cell_type": "markdown",
   "id": "fc3e4866",
   "metadata": {},
   "source": [
    "## saving"
   ]
  },
  {
   "cell_type": "code",
   "execution_count": 5,
   "id": "7957e0c9",
   "metadata": {},
   "outputs": [],
   "source": [
    "import pickle\n",
    "file = open(\"./saved_point.pkl\", \"wb\")\n",
    "pickle.dump({\"Names\":names, \"Encodes\": encoded_known_imgs}, file)\n",
    "file.close()\n"
   ]
  },
  {
   "cell_type": "markdown",
   "id": "cfa2834d",
   "metadata": {},
   "source": [
    "## loading model"
   ]
  },
  {
   "cell_type": "code",
   "execution_count": 6,
   "id": "c0bc377d",
   "metadata": {},
   "outputs": [],
   "source": [
    "import pickle\n",
    "file = open(\"./saved_point.pkl\", \"rb\")\n",
    "saved_point = pickle.load(file)\n",
    "file.close()\n",
    "\n",
    "names, encoded_known_imgs = saved_point[\"Names\"], saved_point[\"Encodes\"]"
   ]
  },
  {
   "cell_type": "markdown",
   "id": "de4108da",
   "metadata": {},
   "source": [
    "# Apply face recognition"
   ]
  },
  {
   "cell_type": "markdown",
   "id": "0134000d",
   "metadata": {},
   "source": [
    "## test image"
   ]
  },
  {
   "cell_type": "code",
   "execution_count": 8,
   "id": "396a43cf",
   "metadata": {},
   "outputs": [
    {
     "name": "stdout",
     "output_type": "stream",
     "text": [
      "Hor Awibre\n"
     ]
    }
   ],
   "source": [
    "test=cv2.imread('F:\\\\graduation project\\\\test\\\\Hor Awibre.jpg')\n",
    "if test.shape[0]>400 or test.shape[1]>400:\n",
    "    test= cv2.resize(test,(400, 400))\n",
    "pro_test =cv2.cvtColor(test ,cv2.COLOR_BGR2RGB)\n",
    "faces_lacation =face_recognition.face_locations(pro_test)\n",
    "feces_encoded =face_recognition.face_encodings(pro_test,faces_lacation)\n",
    "#print(faces_lacation)\n",
    "for encodedFace, face_Loc in zip (feces_encoded ,faces_lacation ):\n",
    "    matches=face_recognition.compare_faces(encoded_known_imgs,encodedFace)\n",
    "    face_distances =face_recognition.face_distance(encoded_known_imgs,encodedFace)\n",
    "    best_match=np.argmin(face_distances )\n",
    "    #print(best_match)\n",
    "\n",
    "    if matches[best_match]:\n",
    "        name=names[best_match]\n",
    "        print(name.split('_')[0])\n",
    "        y1, x2, y2, x1 = face_Loc\n",
    "        #print(y1, x2, y2, x1)\n",
    "        cv2.rectangle(test, (x1, y1), (x2+15, y2), (0, 255, 255), 2)\n",
    "        cv2.rectangle(test, (x1-15, y2 ), (x2+50, y2+30), (0, 0, 255), cv2.FILLED)  \n",
    "        cv2.putText(test, name.split('_')[0], (x1-15 , y2+15 ), cv2.FONT_HERSHEY_COMPLEX, 0.6, (0, 0, 0), 1)\n",
    "        cv2.imshow('test', test)\n",
    "        cv2.waitKey(0)\n",
    "        if cv2.waitKey(1) & 0xFF == ord('q'):\n",
    "            break"
   ]
  },
  {
   "cell_type": "code",
   "execution_count": null,
   "id": "ab49ad48",
   "metadata": {},
   "outputs": [],
   "source": []
  },
  {
   "cell_type": "markdown",
   "id": "b9e18552",
   "metadata": {},
   "source": [
    "## video cam"
   ]
  },
  {
   "cell_type": "code",
   "execution_count": 18,
   "id": "a543c83c",
   "metadata": {},
   "outputs": [],
   "source": [
    "cap = cv2.VideoCapture(0)\n",
    "while True:\n",
    "    success,frame_ =cap.read()\n",
    "    frame_ = cv2.resize(frame_ , (400, 400))\n",
    "    frame =cv2.cvtColor(frame_ ,cv2.COLOR_BGR2RGB)\n",
    "    faces_lacation =face_recognition.face_locations(frame)\n",
    "    feces_encoded =face_recognition.face_encodings(frame,faces_lacation)\n",
    "    \n",
    "    for encodedFace, face_Loc in zip (feces_encoded ,faces_lacation ):\n",
    "        matches=face_recognition.compare_faces(encoded_known_imgs,encodedFace)\n",
    "        face_distances =face_recognition.face_distance(encoded_known_imgs,encodedFace)\n",
    "        best_match=np.argmin(face_distances )\n",
    "        #print(best_match)\n",
    "    \n",
    "        if matches[best_match]:\n",
    "            name=names[best_match]\n",
    "            #print(name.split('_')[0])\n",
    "            y1, x2, y2, x1 = face_Loc\n",
    "            cv2.rectangle(frame_, (x1, y1), (x2+15, y2), (0, 255, 255), 2)\n",
    "            cv2.rectangle(frame_, (x1-15, y2 ), (x2+50, y2+30), (0, 0, 255), cv2.FILLED)  \n",
    "            cv2.putText(frame_, name.split('_')[0], (x1-15 , y2+15 ), cv2.FONT_HERSHEY_COMPLEX, 1, (0, 0, 0), 1)\n",
    "    \n",
    "       \n",
    "         \n",
    "    cv2.imshow('video', frame_)\n",
    "    cv2.waitKey(1)\n",
    "    if cv2.waitKey(1) & 0xFF == ord('q'):\n",
    "        break\n",
    "    \n",
    "cap.release()\n",
    "cv2.destroyAllWindows()"
   ]
  },
  {
   "cell_type": "code",
   "execution_count": null,
   "id": "7aceda5f",
   "metadata": {},
   "outputs": [],
   "source": []
  }
 ],
 "metadata": {
  "kernelspec": {
   "display_name": "Python 3 (ipykernel)",
   "language": "python",
   "name": "python3"
  },
  "language_info": {
   "codemirror_mode": {
    "name": "ipython",
    "version": 3
   },
   "file_extension": ".py",
   "mimetype": "text/x-python",
   "name": "python",
   "nbconvert_exporter": "python",
   "pygments_lexer": "ipython3",
   "version": "3.9.7"
  }
 },
 "nbformat": 4,
 "nbformat_minor": 5
}
