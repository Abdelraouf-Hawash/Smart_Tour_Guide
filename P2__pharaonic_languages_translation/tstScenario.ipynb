{
 "cells": [
  {
   "cell_type": "code",
   "execution_count": 1,
   "id": "8fd1f9a7",
   "metadata": {},
   "outputs": [],
   "source": [
    "import cv2\n",
    "from before import run_1\n",
    "from after import run_2\n",
    "\n",
    "\n",
    "#\"tst_6.jpg\"\n"
   ]
  },
  {
   "cell_type": "code",
   "execution_count": 3,
   "id": "60ece680",
   "metadata": {},
   "outputs": [
    {
     "name": "stderr",
     "output_type": "stream",
     "text": [
      "YOLOv5  v7.0-145-g94714fe Python-3.9.13 torch-1.13.0+cpu CPU\n",
      "\n",
      "Fusing layers... \n",
      "Model summary: 157 layers, 1760518 parameters, 0 gradients\n",
      "Speed: 7.0ms pre-process, 388.5ms inference, 1.0ms NMS per image at shape (1, 3, 1024, 1024)\n",
      "Results saved to \u001b[1m..\\yolov5\\runs\\detect\\exp622\u001b[0m\n",
      "YOLOv5  v7.0-145-g94714fe Python-3.9.13 torch-1.13.0+cpu CPU\n",
      "\n",
      "Fusing layers... \n",
      "Model summary: 157 layers, 1786225 parameters, 0 gradients\n",
      "YOLOv5  v7.0-145-g94714fe Python-3.9.13 torch-1.13.0+cpu CPU\n",
      "\n",
      "Fusing layers... \n",
      "Model summary: 157 layers, 1760518 parameters, 0 gradients\n",
      "Speed: 6.0ms pre-process, 367.6ms inference, 1.0ms NMS per image at shape (1, 3, 1024, 1024)\n",
      "Results saved to \u001b[1m..\\yolov5\\runs\\detect\\exp624\u001b[0m\n",
      "YOLOv5  v7.0-145-g94714fe Python-3.9.13 torch-1.13.0+cpu CPU\n",
      "\n",
      "Fusing layers... \n",
      "Model summary: 157 layers, 1786225 parameters, 0 gradients\n"
     ]
    },
    {
     "name": "stdout",
     "output_type": "stream",
     "text": [
      "Shuffled text: Ramsess Ruler of Helioplis\n",
      "Nearest correct text: R ms sw Ruler of Heliopolis\n",
      "the name of king :  R ms sw Ruler of Heliopolis\n"
     ]
    }
   ],
   "source": [
    "import cv2\n",
    "from before import run_1\n",
    "from after import run_2\n",
    "\n",
    "import difflib\n",
    "def find_nearest_correct_text(shuffled_text, predefined_texts):\n",
    "    best_match = difflib.get_close_matches(shuffled_text, predefined_texts, n=1)\n",
    "    if best_match:\n",
    "        return best_match[0]\n",
    "    else:\n",
    "        return None\n",
    "\n",
    "def translate(pic_path):\n",
    "    # Call the run_1() function\n",
    "    run_1(source=pic_path)\n",
    "    \n",
    "    # Call the run_2() function\n",
    "    txt=run_2()\n",
    "    \n",
    "    return txt\n",
    "\n",
    "predefined_texts = [\"Wsr Maat R Mry Imn\", \"R ms sw Mry Imn\", \"R ms sw Ruler of Heliopolis\", \"R ms sw\",\"Wnis\",\"Mn Phty R\"]\n",
    "\n",
    "nearest_correct_text = find_nearest_correct_text(translate(\"tstImg_5.jpg\"), predefined_texts)\n",
    "print(\"Shuffled text:\", translate(\"tstImg_5.jpg\"))\n",
    "print(\"Nearest correct text:\", nearest_correct_text)\n",
    "\n",
    "print(\"the name of king : \",nearest_correct_text)    \n"
   ]
  },
  {
   "cell_type": "code",
   "execution_count": 3,
   "id": "0753a656",
   "metadata": {},
   "outputs": [],
   "source": []
  },
  {
   "cell_type": "code",
   "execution_count": null,
   "id": "8fc6edac",
   "metadata": {},
   "outputs": [],
   "source": [
    "\n"
   ]
  },
  {
   "cell_type": "code",
   "execution_count": 4,
   "id": "1f05ad1d",
   "metadata": {},
   "outputs": [
    {
     "name": "stderr",
     "output_type": "stream",
     "text": [
      "YOLOv5  v7.0-145-g94714fe Python-3.9.13 torch-1.13.0+cpu CPU\n",
      "\n",
      "Fusing layers... \n",
      "Model summary: 157 layers, 1760518 parameters, 0 gradients\n",
      "Speed: 5.0ms pre-process, 346.7ms inference, 2.0ms NMS per image at shape (1, 3, 1024, 1024)\n",
      "Results saved to \u001b[1m..\\yolov5\\runs\\detect\\exp626\u001b[0m\n",
      "YOLOv5  v7.0-145-g94714fe Python-3.9.13 torch-1.13.0+cpu CPU\n",
      "\n",
      "Fusing layers... \n",
      "Model summary: 157 layers, 1786225 parameters, 0 gradients\n",
      "YOLOv5  v7.0-145-g94714fe Python-3.9.13 torch-1.13.0+cpu CPU\n",
      "\n",
      "Fusing layers... \n"
     ]
    },
    {
     "name": "stdout",
     "output_type": "stream",
     "text": [
      "the name of king :  Ramsess Ruler of Helioplis\n"
     ]
    },
    {
     "name": "stderr",
     "output_type": "stream",
     "text": [
      "Model summary: 157 layers, 1760518 parameters, 0 gradients\n",
      "Speed: 7.0ms pre-process, 348.4ms inference, 1.0ms NMS per image at shape (1, 3, 1024, 1024)\n",
      "Results saved to \u001b[1m..\\yolov5\\runs\\detect\\exp628\u001b[0m\n",
      "YOLOv5  v7.0-145-g94714fe Python-3.9.13 torch-1.13.0+cpu CPU\n",
      "\n",
      "Fusing layers... \n",
      "Model summary: 157 layers, 1786225 parameters, 0 gradients\n"
     ]
    }
   ],
   "source": [
    "import cv2\n",
    "from before import run_1\n",
    "from after import run_2\n",
    "\n",
    "import pyttsx3\n",
    "\n",
    "engine = pyttsx3.init()\n",
    "# Set the voice\n",
    "voice_id = 'HKEY_LOCAL_MACHINE\\SOFTWARE\\Microsoft\\Speech\\Voices\\Tokens\\TTS_MS_EN-US_ZIRA_11.0'\n",
    "#'HKEY_LOCAL_MACHINE\\SOFTWARE\\Microsoft\\Speech\\Voices\\Tokens\\TTS_MS_EN-US_DAVID_11.0'\n",
    "engine.setProperty('voice', voice_id)\n",
    "# Set speech rate (words per minute)\n",
    "engine.setProperty('rate', 100)\n",
    "\n",
    "# Set volume (0.0 to 1.0)\n",
    "engine.setProperty('volume', 0.9)\n",
    "\n",
    "# Change pitch (0.0 to 1.0)\n",
    "engine.setProperty('pitch', 0.5)\n",
    "\n",
    "\n",
    "def text_to_speech(text):\n",
    "    engine.say(text)\n",
    "    engine.runAndWait()\n",
    "    \n",
    "\n",
    "def translate(pic_path):\n",
    "    # Call the run_1() function\n",
    "    run_1(source=pic_path)\n",
    "    \n",
    "    # Call the run_2() function\n",
    "    txt=run_2()\n",
    "    \n",
    "    return txt\n",
    "\n",
    "\n",
    "\n",
    "print(\"the name of king : \",translate(\"exp2\\\\24.jpg\"))    \n",
    "text_to_speech(translate(\"exp2\\\\24.jpg\"))"
   ]
  },
  {
   "cell_type": "code",
   "execution_count": 6,
   "id": "d4c93ec5",
   "metadata": {},
   "outputs": [
    {
     "name": "stdout",
     "output_type": "stream",
     "text": [
      "Looking in indexes: https://pypi.org/simple, https://pypi.ngc.nvidia.com\n",
      "Collecting pyttsx3\n",
      "  Downloading pyttsx3-2.90-py3-none-any.whl (39 kB)\n",
      "Requirement already satisfied: comtypes in c:\\users\\hp\\anaconda3\\lib\\site-packages (from pyttsx3) (1.1.10)\n",
      "Collecting pypiwin32 (from pyttsx3)\n",
      "  Downloading pypiwin32-223-py3-none-any.whl (1.7 kB)\n",
      "Requirement already satisfied: pywin32 in c:\\users\\hp\\anaconda3\\lib\\site-packages (from pyttsx3) (305.1)\n",
      "Installing collected packages: pypiwin32, pyttsx3\n",
      "Successfully installed pypiwin32-223 pyttsx3-2.90\n"
     ]
    }
   ],
   "source": [
    "!pip install pyttsx3\n"
   ]
  },
  {
   "cell_type": "code",
   "execution_count": 31,
   "id": "18af4a0f",
   "metadata": {},
   "outputs": [],
   "source": [
    "import pyttsx3\n",
    "\n",
    "engine = pyttsx3.init()\n",
    "engine.setProperty(\"rate\", 80)  # Set the speech rate to 150 words per minute\n"
   ]
  },
  {
   "cell_type": "code",
   "execution_count": 32,
   "id": "1d0d8e52",
   "metadata": {},
   "outputs": [],
   "source": []
  },
  {
   "cell_type": "code",
   "execution_count": 2,
   "id": "45305b7b",
   "metadata": {},
   "outputs": [
    {
     "name": "stdout",
     "output_type": "stream",
     "text": [
      "Voice: Microsoft David Desktop - English (United States)\n",
      " - ID: HKEY_LOCAL_MACHINE\\SOFTWARE\\Microsoft\\Speech\\Voices\\Tokens\\TTS_MS_EN-US_DAVID_11.0\n",
      " - Languages: []\n",
      " - Gender: None\n",
      " - Age: None\n",
      "\n",
      "\n",
      "Voice: Microsoft Zira Desktop - English (United States)\n",
      " - ID: HKEY_LOCAL_MACHINE\\SOFTWARE\\Microsoft\\Speech\\Voices\\Tokens\\TTS_MS_EN-US_ZIRA_11.0\n",
      " - Languages: []\n",
      " - Gender: None\n",
      " - Age: None\n",
      "\n",
      "\n"
     ]
    }
   ],
   "source": [
    "# List available voices\n",
    "voices = engine.getProperty('voices')\n",
    "for voice in voices:\n",
    "    print(\"Voice:\", voice.name)\n",
    "    print(\" - ID:\", voice.id)\n",
    "    print(\" - Languages:\", voice.languages)\n",
    "    print(\" - Gender:\", voice.gender)\n",
    "    print(\" - Age:\", voice.age)\n",
    "    print(\"\\n\")"
   ]
  },
  {
   "cell_type": "code",
   "execution_count": 33,
   "id": "c95f47b4",
   "metadata": {},
   "outputs": [],
   "source": [
    "engine = pyttsx3.init()\n",
    "\n",
    "# Set the voice\n",
    "voice_id = 'HKEY_LOCAL_MACHINE\\SOFTWARE\\Microsoft\\Speech\\Voices\\Tokens\\TTS_MS_EN-US_ZIRA_11.0'\n",
    "engine.setProperty('voice', voice_id)\n",
    "# Set speech rate (words per minute)\n",
    "engine.setProperty('rate', 100)\n",
    "\n",
    "# Set volume (0.0 to 1.0)\n",
    "engine.setProperty('volume', 0.9)\n",
    "\n",
    "# Change pitch (0.0 to 1.0)\n",
    "engine.setProperty('pitch', 0.5)"
   ]
  },
  {
   "cell_type": "code",
   "execution_count": 34,
   "id": "a31d84ce",
   "metadata": {},
   "outputs": [],
   "source": [
    "text_to_speech(\"Ramsess Ruler of Helioplis\")"
   ]
  },
  {
   "cell_type": "code",
   "execution_count": null,
   "id": "53fbbc56",
   "metadata": {},
   "outputs": [],
   "source": []
  },
  {
   "cell_type": "code",
   "execution_count": null,
   "id": "253a5ddc",
   "metadata": {},
   "outputs": [],
   "source": []
  }
 ],
 "metadata": {
  "kernelspec": {
   "display_name": "Python 3 (ipykernel)",
   "language": "python",
   "name": "python3"
  },
  "language_info": {
   "codemirror_mode": {
    "name": "ipython",
    "version": 3
   },
   "file_extension": ".py",
   "mimetype": "text/x-python",
   "name": "python",
   "nbconvert_exporter": "python",
   "pygments_lexer": "ipython3",
   "version": "3.9.13"
  }
 },
 "nbformat": 4,
 "nbformat_minor": 5
}
