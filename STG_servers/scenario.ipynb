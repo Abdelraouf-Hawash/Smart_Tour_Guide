from hamzaGlyph.full import run_1,run_2

def translate(pic_path):
    # Call the run_1() function
    img = run_1(source=pic_path)
    # Call the run_2() function
    txt=run_2()
    return txt
    

print("the name of king : ",translate("tstImg_5.jpg"))
